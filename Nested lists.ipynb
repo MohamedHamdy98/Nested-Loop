{
 "cells": [
  {
   "cell_type": "markdown",
   "metadata": {},
   "source": [
    "https://www.hackerrank.com/challenges/nested-list/problem"
   ]
  },
  {
   "cell_type": "code",
   "execution_count": 2,
   "metadata": {},
   "outputs": [],
   "source": [
    "students = [['Harry', 37.21], ['Berry', 37.21], ['Tina', 37.2], ['Akriti', 41], ['Harsh', 39]]"
   ]
  },
  {
   "cell_type": "code",
   "execution_count": 21,
   "metadata": {},
   "outputs": [
    {
     "name": "stdout",
     "output_type": "stream",
     "text": [
      "Enter the number:5\n",
      "Enter the name 0:Harry\n",
      "Enter the score 0:37.21\n",
      "Enter the name 1:Berry\n",
      "Enter the score 1:37.21\n",
      "Enter the name 2:Tina\n",
      "Enter the score 2:37.2\n",
      "Enter the name 3:Akriti\n",
      "Enter the score 3:41\n",
      "Enter the name 4:Harsh\n",
      "Enter the score 4:39\n",
      "Berry\n",
      "Harry\n"
     ]
    }
   ],
   "source": [
    "number = int(input('Enter the number:'))\n",
    "l = []\n",
    "second_lowest_names  = []\n",
    "scores = set()\n",
    "\n",
    "for i in range(number):\n",
    "    name = input(f'Enter the name {i}:')\n",
    "    score = input(f'Enter the score {i}:')\n",
    "    l.append([name, score]) \n",
    "    scores.add(score)\n",
    "    \n",
    "second_lowest = sorted(scores)[1]\n",
    "\n",
    "for n, s in l:\n",
    "    if s == second_lowest:\n",
    "        second_lowest_names.append(n)\n",
    "for n in sorted(second_lowest_names):\n",
    "    print(n, end='\\n')"
   ]
  }
 ],
 "metadata": {
  "kernelspec": {
   "display_name": "Python 3",
   "language": "python",
   "name": "python3"
  },
  "language_info": {
   "codemirror_mode": {
    "name": "ipython",
    "version": 3
   },
   "file_extension": ".py",
   "mimetype": "text/x-python",
   "name": "python",
   "nbconvert_exporter": "python",
   "pygments_lexer": "ipython3",
   "version": "3.8.5"
  }
 },
 "nbformat": 4,
 "nbformat_minor": 4
}
